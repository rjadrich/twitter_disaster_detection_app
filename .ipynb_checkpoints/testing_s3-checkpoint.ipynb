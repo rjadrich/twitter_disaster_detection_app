{
 "cells": [
  {
   "cell_type": "code",
   "execution_count": 1,
   "metadata": {
    "collapsed": false
   },
   "outputs": [
    {
     "ename": "ImportError",
     "evalue": "No module named rq",
     "output_type": "error",
     "traceback": [
      "\u001b[1;31m---------------------------------------------------------------------------\u001b[0m",
      "\u001b[1;31mImportError\u001b[0m                               Traceback (most recent call last)",
      "\u001b[1;32m<ipython-input-1-347b8db3953c>\u001b[0m in \u001b[0;36m<module>\u001b[1;34m()\u001b[0m\n\u001b[1;32m----> 1\u001b[1;33m \u001b[1;32mfrom\u001b[0m \u001b[0mrq\u001b[0m \u001b[1;32mimport\u001b[0m \u001b[0mQueue\u001b[0m\u001b[1;33m\u001b[0m\u001b[0m\n\u001b[0m\u001b[0;32m      2\u001b[0m \u001b[1;32mfrom\u001b[0m \u001b[0mworker\u001b[0m \u001b[1;32mimport\u001b[0m \u001b[0mconn\u001b[0m\u001b[1;33m\u001b[0m\u001b[0m\n",
      "\u001b[1;31mImportError\u001b[0m: No module named rq"
     ]
    }
   ],
   "source": [
    "#from rq import Queue\n",
    "from worker import conn"
   ]
  },
  {
   "cell_type": "code",
   "execution_count": 23,
   "metadata": {
    "collapsed": false
   },
   "outputs": [],
   "source": [
    "q = Queue(connection = conn, async=False)"
   ]
  },
  {
   "cell_type": "code",
   "execution_count": 24,
   "metadata": {
    "collapsed": false
   },
   "outputs": [
    {
     "ename": "ValueError",
     "evalue": "Functions from the __main__ module cannot be processed by workers",
     "output_type": "error",
     "traceback": [
      "\u001b[1;31m---------------------------------------------------------------------------\u001b[0m",
      "\u001b[1;31mValueError\u001b[0m                                Traceback (most recent call last)",
      "\u001b[1;32m<ipython-input-24-b250068c193a>\u001b[0m in \u001b[0;36m<module>\u001b[1;34m()\u001b[0m\n\u001b[1;32m----> 1\u001b[1;33m \u001b[0mjob\u001b[0m \u001b[1;33m=\u001b[0m \u001b[0mq\u001b[0m\u001b[1;33m.\u001b[0m\u001b[0menqueue\u001b[0m\u001b[1;33m(\u001b[0m\u001b[1;32mlambda\u001b[0m \u001b[0mx\u001b[0m\u001b[1;33m:\u001b[0m \u001b[1;34m\"hello\"\u001b[0m\u001b[1;33m)\u001b[0m\u001b[1;33m\u001b[0m\u001b[0m\n\u001b[0m",
      "\u001b[1;32mC:\\Users\\rbj428\\AppData\\Local\\Continuum\\Anaconda2\\lib\\site-packages\\rq\\queue.pyc\u001b[0m in \u001b[0;36menqueue\u001b[1;34m(self, f, *args, **kwargs)\u001b[0m\n\u001b[0;32m    239\u001b[0m         \"\"\"\n\u001b[0;32m    240\u001b[0m         \u001b[1;32mif\u001b[0m \u001b[1;32mnot\u001b[0m \u001b[0misinstance\u001b[0m\u001b[1;33m(\u001b[0m\u001b[0mf\u001b[0m\u001b[1;33m,\u001b[0m \u001b[0mstring_types\u001b[0m\u001b[1;33m)\u001b[0m \u001b[1;32mand\u001b[0m \u001b[0mf\u001b[0m\u001b[1;33m.\u001b[0m\u001b[0m__module__\u001b[0m \u001b[1;33m==\u001b[0m \u001b[1;34m'__main__'\u001b[0m\u001b[1;33m:\u001b[0m\u001b[1;33m\u001b[0m\u001b[0m\n\u001b[1;32m--> 241\u001b[1;33m             raise ValueError('Functions from the __main__ module cannot be processed '\n\u001b[0m\u001b[0;32m    242\u001b[0m                              'by workers')\n\u001b[0;32m    243\u001b[0m \u001b[1;33m\u001b[0m\u001b[0m\n",
      "\u001b[1;31mValueError\u001b[0m: Functions from the __main__ module cannot be processed by workers"
     ]
    }
   ],
   "source": [
    "job = q.enqueue(lambda x: \"hello\")"
   ]
  },
  {
   "cell_type": "code",
   "execution_count": 25,
   "metadata": {
    "collapsed": false
   },
   "outputs": [
    {
     "name": "stdout",
     "output_type": "stream",
     "text": [
      "Object `result` not found.\n"
     ]
    }
   ],
   "source": [
    "q.enqueue().result?"
   ]
  },
  {
   "cell_type": "code",
   "execution_count": null,
   "metadata": {
    "collapsed": true
   },
   "outputs": [],
   "source": [
    "q.enqueue().result"
   ]
  },
  {
   "cell_type": "code",
   "execution_count": 2,
   "metadata": {
    "collapsed": false
   },
   "outputs": [],
   "source": [
    "import boto3"
   ]
  },
  {
   "cell_type": "code",
   "execution_count": 3,
   "metadata": {
    "collapsed": false
   },
   "outputs": [],
   "source": [
    "s3client = boto3.client('s3')"
   ]
  },
  {
   "cell_type": "code",
   "execution_count": 5,
   "metadata": {
    "collapsed": false
   },
   "outputs": [
    {
     "name": "stdout",
     "output_type": "stream",
     "text": [
      "Uploading some data to disasters-on-twitter with key: python_sample_key.txt\n"
     ]
    },
    {
     "data": {
      "text/plain": [
       "{u'ETag': '\"ed076287532e86365e841e92bfc50d8c\"',\n",
       " 'ResponseMetadata': {'HTTPHeaders': {'content-length': '0',\n",
       "   'date': 'Wed, 28 Sep 2016 21:39:08 GMT',\n",
       "   'etag': '\"ed076287532e86365e841e92bfc50d8c\"',\n",
       "   'server': 'AmazonS3',\n",
       "   'x-amz-id-2': 'J3oTqyNFjSw2BBRBxvQe3qMViych6QjkDNS/zIedty6JdY9gChz5mDiKEAosaIBDBBlEyuKtXMU=',\n",
       "   'x-amz-request-id': '043AFF0E7FCEEEAD'},\n",
       "  'HTTPStatusCode': 200,\n",
       "  'HostId': 'J3oTqyNFjSw2BBRBxvQe3qMViych6QjkDNS/zIedty6JdY9gChz5mDiKEAosaIBDBBlEyuKtXMU=',\n",
       "  'RequestId': '043AFF0E7FCEEEAD',\n",
       "  'RetryAttempts': 0}}"
      ]
     },
     "execution_count": 5,
     "metadata": {},
     "output_type": "execute_result"
    }
   ],
   "source": [
    "object_key = 'python_sample_key.txt'\n",
    "bucket_name = 'disasters-on-twitter'\n",
    "\n",
    "print('Uploading some data to {} with key: {}'.format(\n",
    "    bucket_name, object_key))\n",
    "s3client.put_object(Bucket=bucket_name, Key=object_key, Body=b'Hello World!')\n"
   ]
  },
  {
   "cell_type": "code",
   "execution_count": 10,
   "metadata": {
    "collapsed": false
   },
   "outputs": [
    {
     "data": {
      "text/plain": [
       "'2016-09-28 04:08:21+00:00'"
      ]
     },
     "execution_count": 10,
     "metadata": {},
     "output_type": "execute_result"
    }
   ],
   "source": [
    "str(s3client.list_objects(Bucket=bucket_name)['Contents'][0]['LastModified'])"
   ]
  },
  {
   "cell_type": "code",
   "execution_count": 10,
   "metadata": {
    "collapsed": false
   },
   "outputs": [
    {
     "data": {
      "text/plain": [
       "u'1468166721.csv'"
      ]
     },
     "execution_count": 10,
     "metadata": {},
     "output_type": "execute_result"
    }
   ],
   "source": [
    "s3client.list_objects(Bucket=bucket_name)['Contents'][0]['Key']"
   ]
  },
  {
   "cell_type": "code",
   "execution_count": 12,
   "metadata": {
    "collapsed": true
   },
   "outputs": [],
   "source": [
    "import re"
   ]
  },
  {
   "cell_type": "code",
   "execution_count": 34,
   "metadata": {
    "collapsed": false
   },
   "outputs": [],
   "source": [
    "file_list = []\n",
    "date_list = []\n",
    "for entry in s3client.list_objects(Bucket=bucket_name)['Contents']:\n",
    "    search = re.search(r'([0-9]+).csv', entry['Key'])\n",
    "    if search:\n",
    "        file_list.append(int(search.group(1)))\n",
    "        date_list.append(entry['LastModified'].strftime('%m/%d/%Y %H:%M %Z'))\n",
    "file_date_list = zip(file_list, date_list)\n",
    "file_date_list.sort()\n",
    "file_date_list_delete = file_date_list[:-10]\n",
    "file_list_delete = file_list[:-10] #this will not ever generate an index out of range issue"
   ]
  },
  {
   "cell_type": "code",
   "execution_count": 36,
   "metadata": {
    "collapsed": false
   },
   "outputs": [
    {
     "data": {
      "text/plain": [
       "[(1475036722, '09/28/2016 04:25 UTC'),\n",
       " (1475037364, '09/28/2016 04:36 UTC'),\n",
       " (1475094382, '09/28/2016 20:26 UTC'),\n",
       " (1475095065, '09/28/2016 20:37 UTC'),\n",
       " (1475095896, '09/28/2016 20:51 UTC'),\n",
       " (1475096105, '09/28/2016 20:55 UTC'),\n",
       " (1475096793, '09/28/2016 21:06 UTC'),\n",
       " (1475097419, '09/28/2016 21:17 UTC'),\n",
       " (1475098553, '09/28/2016 21:35 UTC'),\n",
       " (1475099193, '09/28/2016 21:46 UTC')]"
      ]
     },
     "execution_count": 36,
     "metadata": {},
     "output_type": "execute_result"
    }
   ],
   "source": [
    "file_date_list"
   ]
  },
  {
   "cell_type": "code",
   "execution_count": 41,
   "metadata": {
    "collapsed": false
   },
   "outputs": [
    {
     "data": {
      "text/plain": [
       "[1468166721,\n",
       " 1468169098,\n",
       " 1468169684,\n",
       " 1468170930,\n",
       " 1468171539,\n",
       " 1473879560,\n",
       " 1473886841]"
      ]
     },
     "execution_count": 41,
     "metadata": {},
     "output_type": "execute_result"
    }
   ],
   "source": [
    "file_list[:-10]"
   ]
  },
  {
   "cell_type": "code",
   "execution_count": 45,
   "metadata": {
    "collapsed": false
   },
   "outputs": [
    {
     "data": {
      "text/plain": [
       "[1468169098,\n",
       " 1468169684,\n",
       " 1468170930,\n",
       " 1468171539,\n",
       " 1473879560,\n",
       " 1473886841,\n",
       " 1474832246,\n",
       " 1474832729,\n",
       " 1474833507,\n",
       " 1474942030,\n",
       " 1474942321,\n",
       " 1474942928,\n",
       " 1474943550,\n",
       " 1474944194,\n",
       " 1475027878,\n",
       " 1475028605]"
      ]
     },
     "execution_count": 45,
     "metadata": {},
     "output_type": "execute_result"
    }
   ],
   "source": [
    "file_list"
   ]
  },
  {
   "cell_type": "code",
   "execution_count": 46,
   "metadata": {
    "collapsed": false
   },
   "outputs": [
    {
     "data": {
      "text/plain": [
       "{'ResponseMetadata': {'HTTPHeaders': {'date': 'Wed, 28 Sep 2016 02:45:00 GMT',\n",
       "   'server': 'AmazonS3',\n",
       "   'x-amz-id-2': 'PzoMBltc7QrTbD1YDKt/MiS97UdK/nykMsITjCdbUQgt/g+2/OuU/kApY+/ZvXA0tT1WwWG6/JU=',\n",
       "   'x-amz-request-id': '5F86F79635C9B15E'},\n",
       "  'HTTPStatusCode': 204,\n",
       "  'HostId': 'PzoMBltc7QrTbD1YDKt/MiS97UdK/nykMsITjCdbUQgt/g+2/OuU/kApY+/ZvXA0tT1WwWG6/JU=',\n",
       "  'RequestId': '5F86F79635C9B15E',\n",
       "  'RetryAttempts': 0}}"
      ]
     },
     "execution_count": 46,
     "metadata": {},
     "output_type": "execute_result"
    }
   ],
   "source": [
    "object_key = '%i.csv' % 1468166721837271991\n",
    "s3client.delete_object(Bucket=bucket_name, Key=object_key)"
   ]
  },
  {
   "cell_type": "code",
   "execution_count": null,
   "metadata": {
    "collapsed": true
   },
   "outputs": [],
   "source": [
    "\n",
    "s3client.put_object(Bucket=bucket_name, Key=object_key, Body=b'Hello World!')"
   ]
  },
  {
   "cell_type": "code",
   "execution_count": null,
   "metadata": {
    "collapsed": true
   },
   "outputs": [],
   "source": []
  },
  {
   "cell_type": "code",
   "execution_count": 52,
   "metadata": {
    "collapsed": false
   },
   "outputs": [
    {
     "data": {
      "text/plain": [
       "[2]"
      ]
     },
     "execution_count": 52,
     "metadata": {},
     "output_type": "execute_result"
    }
   ],
   "source": [
    "[2,3,4,5,3,2,1,4][:-7]"
   ]
  },
  {
   "cell_type": "code",
   "execution_count": null,
   "metadata": {
    "collapsed": true
   },
   "outputs": [],
   "source": []
  },
  {
   "cell_type": "code",
   "execution_count": 19,
   "metadata": {
    "collapsed": false
   },
   "outputs": [
    {
     "data": {
      "text/plain": [
       "u'1468166721'"
      ]
     },
     "execution_count": 19,
     "metadata": {},
     "output_type": "execute_result"
    }
   ],
   "source": [
    "re.search(r'([0-9]+).csv', u'1468166721.csv').group(1)"
   ]
  },
  {
   "cell_type": "code",
   "execution_count": 12,
   "metadata": {
    "collapsed": false
   },
   "outputs": [
    {
     "data": {
      "text/plain": [
       "[u'1468166721.csv',\n",
       " u'1468169098.csv',\n",
       " u'1468169684.csv',\n",
       " u'1468170930.csv',\n",
       " u'1468171539.csv',\n",
       " u'1473879560.csv',\n",
       " u'1473886841.csv',\n",
       " u'1474832246.csv',\n",
       " u'1474832729.csv',\n",
       " u'1474833507.csv',\n",
       " u'1474942030.csv',\n",
       " u'1474942321.csv',\n",
       " u'1474942928.csv',\n",
       " u'1474943550.csv',\n",
       " u'1474944194.csv',\n",
       " u'1475027878.csv',\n",
       " u'1475027878_stats.csv',\n",
       " u'1475027878_truncated.csv',\n",
       " u'1475028605.csv',\n",
       " u'1475028605_stats.csv',\n",
       " u'1475028605_truncated.csv',\n",
       " u'python_sample_key.txt']"
      ]
     },
     "execution_count": 12,
     "metadata": {},
     "output_type": "execute_result"
    }
   ],
   "source": [
    "file_list"
   ]
  },
  {
   "cell_type": "code",
   "execution_count": 5,
   "metadata": {
    "collapsed": true
   },
   "outputs": [],
   "source": [
    "my_str = \"hello world\"\n",
    "bytes = str.encode(my_str)"
   ]
  },
  {
   "cell_type": "code",
   "execution_count": 6,
   "metadata": {
    "collapsed": false
   },
   "outputs": [
    {
     "data": {
      "text/plain": [
       "'hello world'"
      ]
     },
     "execution_count": 6,
     "metadata": {},
     "output_type": "execute_result"
    }
   ],
   "source": [
    "my_str"
   ]
  },
  {
   "cell_type": "code",
   "execution_count": 1,
   "metadata": {
    "collapsed": true
   },
   "outputs": [],
   "source": [
    "import time"
   ]
  },
  {
   "cell_type": "code",
   "execution_count": 2,
   "metadata": {
    "collapsed": false
   },
   "outputs": [
    {
     "data": {
      "text/plain": [
       "1468166311"
      ]
     },
     "execution_count": 2,
     "metadata": {},
     "output_type": "execute_result"
    }
   ],
   "source": [
    "int(time.time())"
   ]
  },
  {
   "cell_type": "code",
   "execution_count": 4,
   "metadata": {
    "collapsed": false
   },
   "outputs": [
    {
     "data": {
      "text/plain": [
       "'1468166315.csv'"
      ]
     },
     "execution_count": 4,
     "metadata": {},
     "output_type": "execute_result"
    }
   ],
   "source": [
    "'%i.csv' % int(time.time())"
   ]
  },
  {
   "cell_type": "code",
   "execution_count": 16,
   "metadata": {
    "collapsed": false
   },
   "outputs": [],
   "source": [
    "object_key = 'python_sample_key.txt'\n",
    "bucket_name = 'disasters-on-twitter'\n",
    "s3client.download_file(bucket_name, object_key, './data/hello.txt')\n",
    "\n",
    "#with open('filename', 'wb') as data:\n",
    "#    s3client.download_fileobj(bucket_name, object_key, data)"
   ]
  },
  {
   "cell_type": "code",
   "execution_count": 8,
   "metadata": {
    "collapsed": false
   },
   "outputs": [
    {
     "ename": "ValueError",
     "evalue": "I/O operation on closed file",
     "output_type": "error",
     "traceback": [
      "\u001b[1;31m---------------------------------------------------------------------------\u001b[0m",
      "\u001b[1;31mValueError\u001b[0m                                Traceback (most recent call last)",
      "\u001b[1;32m<ipython-input-8-44b09b65586d>\u001b[0m in \u001b[0;36m<module>\u001b[1;34m()\u001b[0m\n\u001b[1;32m----> 1\u001b[1;33m \u001b[0mdata\u001b[0m\u001b[1;33m.\u001b[0m\u001b[0mread\u001b[0m\u001b[1;33m(\u001b[0m\u001b[1;33m)\u001b[0m\u001b[1;33m\u001b[0m\u001b[0m\n\u001b[0m",
      "\u001b[1;31mValueError\u001b[0m: I/O operation on closed file"
     ]
    }
   ],
   "source": [
    "data.read()"
   ]
  },
  {
   "cell_type": "code",
   "execution_count": 11,
   "metadata": {
    "collapsed": false
   },
   "outputs": [],
   "source": [
    "s3client.download_file?"
   ]
  },
  {
   "cell_type": "code",
   "execution_count": null,
   "metadata": {
    "collapsed": true
   },
   "outputs": [],
   "source": []
  },
  {
   "cell_type": "code",
   "execution_count": 16,
   "metadata": {
    "collapsed": false
   },
   "outputs": [],
   "source": [
    "import re\n",
    "import pandas as pd"
   ]
  },
  {
   "cell_type": "code",
   "execution_count": 2,
   "metadata": {
    "collapsed": true
   },
   "outputs": [],
   "source": [
    "import boto3"
   ]
  },
  {
   "cell_type": "code",
   "execution_count": 6,
   "metadata": {
    "collapsed": true
   },
   "outputs": [],
   "source": [
    "s3client = boto3.client('s3')\n",
    "bucket_name = 'disasters-on-twitter'"
   ]
  },
  {
   "cell_type": "code",
   "execution_count": 10,
   "metadata": {
    "collapsed": false
   },
   "outputs": [],
   "source": [
    "file_list = []\n",
    "for entry in s3client.list_objects(Bucket=bucket_name)['Contents']:\n",
    "    search = re.search(r'([0-9]+).csv', entry['Key'])\n",
    "    if search:\n",
    "        file_list.append(int(search.group(1)))\n",
    "file_list.sort()\n",
    "time_index = file_list[-1] #this will not ever generate an index out of range issue"
   ]
  },
  {
   "cell_type": "code",
   "execution_count": 11,
   "metadata": {
    "collapsed": false
   },
   "outputs": [],
   "source": [
    "object_key = '%i_truncated.csv' % time_index"
   ]
  },
  {
   "cell_type": "code",
   "execution_count": 18,
   "metadata": {
    "collapsed": true
   },
   "outputs": [],
   "source": [
    "data_truncated_address = 'https://s3.amazonaws.com/disasters-on-twitter/%i_truncated.csv' % time_index"
   ]
  },
  {
   "cell_type": "code",
   "execution_count": 19,
   "metadata": {
    "collapsed": false
   },
   "outputs": [
    {
     "data": {
      "text/html": [
       "<div>\n",
       "<table border=\"1\" class=\"dataframe\">\n",
       "  <thead>\n",
       "    <tr style=\"text-align: right;\">\n",
       "      <th></th>\n",
       "      <th>Keyword</th>\n",
       "      <th>Tweet</th>\n",
       "      <th>Certainty</th>\n",
       "    </tr>\n",
       "  </thead>\n",
       "  <tbody>\n",
       "    <tr>\n",
       "      <th>0</th>\n",
       "      <td>suicide bombing</td>\n",
       "      <td>17 People Killed in Baghdad Suicide Bombings\\n...</td>\n",
       "      <td>0.996996</td>\n",
       "    </tr>\n",
       "    <tr>\n",
       "      <th>1</th>\n",
       "      <td>suicide bombing</td>\n",
       "      <td>17 People Killed in Baghdad Suicide Bombings h...</td>\n",
       "      <td>0.996996</td>\n",
       "    </tr>\n",
       "    <tr>\n",
       "      <th>2</th>\n",
       "      <td>burning buildings</td>\n",
       "      <td>At least 5 homes burning in Northern Californi...</td>\n",
       "      <td>0.989306</td>\n",
       "    </tr>\n",
       "    <tr>\n",
       "      <th>3</th>\n",
       "      <td>buildings burning</td>\n",
       "      <td>At least 5 homes burning in Northern Californi...</td>\n",
       "      <td>0.989306</td>\n",
       "    </tr>\n",
       "    <tr>\n",
       "      <th>4</th>\n",
       "      <td>burning buildings</td>\n",
       "      <td>At least 5 homes burning in Northern Californi...</td>\n",
       "      <td>0.985390</td>\n",
       "    </tr>\n",
       "    <tr>\n",
       "      <th>5</th>\n",
       "      <td>buildings burning</td>\n",
       "      <td>At least 5 homes burning in Northern Californi...</td>\n",
       "      <td>0.985390</td>\n",
       "    </tr>\n",
       "    <tr>\n",
       "      <th>6</th>\n",
       "      <td>buildings burning</td>\n",
       "      <td>RT @7News: At least 5 homes burning in Norther...</td>\n",
       "      <td>0.985153</td>\n",
       "    </tr>\n",
       "    <tr>\n",
       "      <th>7</th>\n",
       "      <td>burning buildings</td>\n",
       "      <td>RT @7News: At least 5 homes burning in Norther...</td>\n",
       "      <td>0.985153</td>\n",
       "    </tr>\n",
       "    <tr>\n",
       "      <th>8</th>\n",
       "      <td>evacuated</td>\n",
       "      <td>Hundreds Evacuated as Loma Fire Tears Through ...</td>\n",
       "      <td>0.982479</td>\n",
       "    </tr>\n",
       "    <tr>\n",
       "      <th>9</th>\n",
       "      <td>flooding</td>\n",
       "      <td>RT @EmmaPeds: Reports of at least one window s...</td>\n",
       "      <td>0.982219</td>\n",
       "    </tr>\n",
       "    <tr>\n",
       "      <th>10</th>\n",
       "      <td>flooding</td>\n",
       "      <td>RT @EmmaPeds: Reports of at least one window s...</td>\n",
       "      <td>0.982219</td>\n",
       "    </tr>\n",
       "    <tr>\n",
       "      <th>11</th>\n",
       "      <td>hail</td>\n",
       "      <td>RT @EmmaPeds: Reports of at least one window s...</td>\n",
       "      <td>0.982219</td>\n",
       "    </tr>\n",
       "    <tr>\n",
       "      <th>12</th>\n",
       "      <td>flooding</td>\n",
       "      <td>RT @EmmaPeds: Reports of at least one window s...</td>\n",
       "      <td>0.982219</td>\n",
       "    </tr>\n",
       "    <tr>\n",
       "      <th>13</th>\n",
       "      <td>suicide bomb</td>\n",
       "      <td>RT @XHNews: #IS claims two suicide bomb attack...</td>\n",
       "      <td>0.980516</td>\n",
       "    </tr>\n",
       "    <tr>\n",
       "      <th>14</th>\n",
       "      <td>heat wave</td>\n",
       "      <td>California heat wave intensifies wildfire thre...</td>\n",
       "      <td>0.980138</td>\n",
       "    </tr>\n",
       "    <tr>\n",
       "      <th>15</th>\n",
       "      <td>typhoon</td>\n",
       "      <td>RT @CTVNews: Typhoon Megi hits eastern China a...</td>\n",
       "      <td>0.978339</td>\n",
       "    </tr>\n",
       "    <tr>\n",
       "      <th>16</th>\n",
       "      <td>flooding</td>\n",
       "      <td>Flooding nursery: xytlfvJ https://t.co/AgLxL3bXxj</td>\n",
       "      <td>0.976042</td>\n",
       "    </tr>\n",
       "    <tr>\n",
       "      <th>17</th>\n",
       "      <td>suicide bombing</td>\n",
       "      <td>Isis says 50 killed in claimed suicide bombing...</td>\n",
       "      <td>0.972376</td>\n",
       "    </tr>\n",
       "    <tr>\n",
       "      <th>18</th>\n",
       "      <td>suicide bomb</td>\n",
       "      <td>RT @cctvnews: #BREAKING 3 killed, 10 wounded a...</td>\n",
       "      <td>0.971092</td>\n",
       "    </tr>\n",
       "    <tr>\n",
       "      <th>19</th>\n",
       "      <td>natural disaster</td>\n",
       "      <td>#Breaking: Yass Valley declared a natural disa...</td>\n",
       "      <td>0.970679</td>\n",
       "    </tr>\n",
       "    <tr>\n",
       "      <th>20</th>\n",
       "      <td>suicide bomber</td>\n",
       "      <td>Roadside bomb, suicide bomber kill at 'Protest'</td>\n",
       "      <td>0.970560</td>\n",
       "    </tr>\n",
       "    <tr>\n",
       "      <th>21</th>\n",
       "      <td>suicide bomb</td>\n",
       "      <td>Roadside bomb, suicide bomber kill at 'Protest'</td>\n",
       "      <td>0.970560</td>\n",
       "    </tr>\n",
       "    <tr>\n",
       "      <th>22</th>\n",
       "      <td>evacuation</td>\n",
       "      <td>#Wildfire in Santa Cruz Mountains Forces Evacu...</td>\n",
       "      <td>0.970110</td>\n",
       "    </tr>\n",
       "    <tr>\n",
       "      <th>23</th>\n",
       "      <td>arsonist</td>\n",
       "      <td>COPENHAGEN IN FLAMES: 200 cars set on fire as ...</td>\n",
       "      <td>0.968366</td>\n",
       "    </tr>\n",
       "    <tr>\n",
       "      <th>24</th>\n",
       "      <td>natural disaster</td>\n",
       "      <td>RT @katie_b_burgess: #Breaking: Yass Valley de...</td>\n",
       "      <td>0.966865</td>\n",
       "    </tr>\n",
       "    <tr>\n",
       "      <th>25</th>\n",
       "      <td>natural disaster</td>\n",
       "      <td>RT @katie_b_burgess: #Breaking: Yass Valley de...</td>\n",
       "      <td>0.966865</td>\n",
       "    </tr>\n",
       "    <tr>\n",
       "      <th>26</th>\n",
       "      <td>floods</td>\n",
       "      <td>Severe weather warning issued for #Riverina as...</td>\n",
       "      <td>0.966477</td>\n",
       "    </tr>\n",
       "    <tr>\n",
       "      <th>27</th>\n",
       "      <td>heat wave</td>\n",
       "      <td>California heat wave intensifies wildfire thre...</td>\n",
       "      <td>0.965814</td>\n",
       "    </tr>\n",
       "    <tr>\n",
       "      <th>28</th>\n",
       "      <td>thunderstorm</td>\n",
       "      <td>Final:Severe Thunderstorm Warning issued Septe...</td>\n",
       "      <td>0.964442</td>\n",
       "    </tr>\n",
       "    <tr>\n",
       "      <th>29</th>\n",
       "      <td>heat wave</td>\n",
       "      <td>NATION'S NEWS!: California heat wave intensifi...</td>\n",
       "      <td>0.960432</td>\n",
       "    </tr>\n",
       "    <tr>\n",
       "      <th>...</th>\n",
       "      <td>...</td>\n",
       "      <td>...</td>\n",
       "      <td>...</td>\n",
       "    </tr>\n",
       "    <tr>\n",
       "      <th>70</th>\n",
       "      <td>forest fire</td>\n",
       "      <td>@ju_rue is hotter than a forest fire🔥</td>\n",
       "      <td>0.920456</td>\n",
       "    </tr>\n",
       "    <tr>\n",
       "      <th>71</th>\n",
       "      <td>explosion</td>\n",
       "      <td>NewYorkCityFor.me Fire battalion chief dies in...</td>\n",
       "      <td>0.920042</td>\n",
       "    </tr>\n",
       "    <tr>\n",
       "      <th>72</th>\n",
       "      <td>airplane accident</td>\n",
       "      <td>Bystander and Pilot Injured after Bizarre Airp...</td>\n",
       "      <td>0.919724</td>\n",
       "    </tr>\n",
       "    <tr>\n",
       "      <th>73</th>\n",
       "      <td>flooding</td>\n",
       "      <td>Heavy rain, thunderstorms lead to flooding in ...</td>\n",
       "      <td>0.919108</td>\n",
       "    </tr>\n",
       "    <tr>\n",
       "      <th>74</th>\n",
       "      <td>fire</td>\n",
       "      <td>Fire, Rescue and Safety Training from the prof...</td>\n",
       "      <td>0.917752</td>\n",
       "    </tr>\n",
       "    <tr>\n",
       "      <th>75</th>\n",
       "      <td>rescue</td>\n",
       "      <td>Fire, Rescue and Safety Training from the prof...</td>\n",
       "      <td>0.917752</td>\n",
       "    </tr>\n",
       "    <tr>\n",
       "      <th>76</th>\n",
       "      <td>hail</td>\n",
       "      <td>昼飯なぅ https://t.co/PVtjMP1edz</td>\n",
       "      <td>0.916467</td>\n",
       "    </tr>\n",
       "    <tr>\n",
       "      <th>77</th>\n",
       "      <td>explosion</td>\n",
       "      <td>https://t.co/WIVFrQAssO... https://t.co/tYvQoL...</td>\n",
       "      <td>0.916467</td>\n",
       "    </tr>\n",
       "    <tr>\n",
       "      <th>78</th>\n",
       "      <td>arson</td>\n",
       "      <td>https://t.co/qbsJhNLTzQ</td>\n",
       "      <td>0.916467</td>\n",
       "    </tr>\n",
       "    <tr>\n",
       "      <th>79</th>\n",
       "      <td>bridge collapse</td>\n",
       "      <td>https://t.co/pspjTaQmQ5</td>\n",
       "      <td>0.916467</td>\n",
       "    </tr>\n",
       "    <tr>\n",
       "      <th>80</th>\n",
       "      <td>deaths</td>\n",
       "      <td>https://t.co/w4LhqwreV2</td>\n",
       "      <td>0.916467</td>\n",
       "    </tr>\n",
       "    <tr>\n",
       "      <th>81</th>\n",
       "      <td>natural disaster</td>\n",
       "      <td>https://t.co/AkvoINfDBv... https://t.co/f9VYvS...</td>\n",
       "      <td>0.916467</td>\n",
       "    </tr>\n",
       "    <tr>\n",
       "      <th>82</th>\n",
       "      <td>natural disaster</td>\n",
       "      <td>https://t.co/OxxZ4q1TMl... https://t.co/tXWawl...</td>\n",
       "      <td>0.916467</td>\n",
       "    </tr>\n",
       "    <tr>\n",
       "      <th>83</th>\n",
       "      <td>natural disaster</td>\n",
       "      <td>https://t.co/97wHnMnZ3b... https://t.co/gRHyJh...</td>\n",
       "      <td>0.916467</td>\n",
       "    </tr>\n",
       "    <tr>\n",
       "      <th>84</th>\n",
       "      <td>arson</td>\n",
       "      <td>https://t.co/95F7A0vAEE https://t.co/82FGaqSpit</td>\n",
       "      <td>0.916467</td>\n",
       "    </tr>\n",
       "    <tr>\n",
       "      <th>85</th>\n",
       "      <td>earthquake</td>\n",
       "      <td>https://t.co/WIVFrQAssO... https://t.co/tYvQoL...</td>\n",
       "      <td>0.916467</td>\n",
       "    </tr>\n",
       "    <tr>\n",
       "      <th>86</th>\n",
       "      <td>natural disaster</td>\n",
       "      <td>https://t.co/QvMelF1vaV</td>\n",
       "      <td>0.916467</td>\n",
       "    </tr>\n",
       "    <tr>\n",
       "      <th>87</th>\n",
       "      <td>natural disaster</td>\n",
       "      <td>https://t.co/s2zlfgdxxU</td>\n",
       "      <td>0.916467</td>\n",
       "    </tr>\n",
       "    <tr>\n",
       "      <th>88</th>\n",
       "      <td>blight</td>\n",
       "      <td>くらげ https://t.co/MhiBF6dXdT</td>\n",
       "      <td>0.916467</td>\n",
       "    </tr>\n",
       "    <tr>\n",
       "      <th>89</th>\n",
       "      <td>obliteration</td>\n",
       "      <td>はるまげ堂 ショッピングカートをご利用くださいませ\\nhttps://t.co/jSNJoh...</td>\n",
       "      <td>0.916467</td>\n",
       "    </tr>\n",
       "    <tr>\n",
       "      <th>90</th>\n",
       "      <td>sunk</td>\n",
       "      <td>やるのは紫でもいいのよ？ダブルスライドで苛ｍ…歓迎してあげるわhttps://t.co/5x...</td>\n",
       "      <td>0.916467</td>\n",
       "    </tr>\n",
       "    <tr>\n",
       "      <th>91</th>\n",
       "      <td>bloody</td>\n",
       "      <td>https://t.co/z8whpCNrhC</td>\n",
       "      <td>0.916467</td>\n",
       "    </tr>\n",
       "    <tr>\n",
       "      <th>92</th>\n",
       "      <td>blight</td>\n",
       "      <td>べろだしあざらし https://t.co/fWCqyZMzMA</td>\n",
       "      <td>0.916467</td>\n",
       "    </tr>\n",
       "    <tr>\n",
       "      <th>93</th>\n",
       "      <td>blight</td>\n",
       "      <td>とぶいるか https://t.co/wBGhUIY4zc</td>\n",
       "      <td>0.916467</td>\n",
       "    </tr>\n",
       "    <tr>\n",
       "      <th>94</th>\n",
       "      <td>collision</td>\n",
       "      <td>ટ્રક ચાલકે બાઈકને ટક્કર મારતાં એક વ્યક્તિનું મ...</td>\n",
       "      <td>0.916467</td>\n",
       "    </tr>\n",
       "    <tr>\n",
       "      <th>95</th>\n",
       "      <td>siren</td>\n",
       "      <td>Alessio Boschi https://t.co/OZBqz2o2O0</td>\n",
       "      <td>0.916467</td>\n",
       "    </tr>\n",
       "    <tr>\n",
       "      <th>96</th>\n",
       "      <td>cyclone</td>\n",
       "      <td>山岡獲って広島対巨人で田口対山岡の投手戦観たいよね https://t.co/WxG749Wn2t</td>\n",
       "      <td>0.916467</td>\n",
       "    </tr>\n",
       "    <tr>\n",
       "      <th>97</th>\n",
       "      <td>crashed</td>\n",
       "      <td>1 dies in small plane crash in Montgomery Co. ...</td>\n",
       "      <td>0.916445</td>\n",
       "    </tr>\n",
       "    <tr>\n",
       "      <th>98</th>\n",
       "      <td>suicide bomb</td>\n",
       "      <td>عراق : خودکش بم حملوں میں 17 افراد ہلاک https:...</td>\n",
       "      <td>0.915604</td>\n",
       "    </tr>\n",
       "    <tr>\n",
       "      <th>99</th>\n",
       "      <td>violent storm</td>\n",
       "      <td>RT @NWSMobile: 110 Years Ago-  The Sept 27 190...</td>\n",
       "      <td>0.915203</td>\n",
       "    </tr>\n",
       "  </tbody>\n",
       "</table>\n",
       "<p>100 rows × 3 columns</p>\n",
       "</div>"
      ],
      "text/plain": [
       "              Keyword                                              Tweet  \\\n",
       "0     suicide bombing  17 People Killed in Baghdad Suicide Bombings\\n...   \n",
       "1     suicide bombing  17 People Killed in Baghdad Suicide Bombings h...   \n",
       "2   burning buildings  At least 5 homes burning in Northern Californi...   \n",
       "3   buildings burning  At least 5 homes burning in Northern Californi...   \n",
       "4   burning buildings  At least 5 homes burning in Northern Californi...   \n",
       "5   buildings burning  At least 5 homes burning in Northern Californi...   \n",
       "6   buildings burning  RT @7News: At least 5 homes burning in Norther...   \n",
       "7   burning buildings  RT @7News: At least 5 homes burning in Norther...   \n",
       "8           evacuated  Hundreds Evacuated as Loma Fire Tears Through ...   \n",
       "9            flooding  RT @EmmaPeds: Reports of at least one window s...   \n",
       "10           flooding  RT @EmmaPeds: Reports of at least one window s...   \n",
       "11               hail  RT @EmmaPeds: Reports of at least one window s...   \n",
       "12           flooding  RT @EmmaPeds: Reports of at least one window s...   \n",
       "13       suicide bomb  RT @XHNews: #IS claims two suicide bomb attack...   \n",
       "14          heat wave  California heat wave intensifies wildfire thre...   \n",
       "15            typhoon  RT @CTVNews: Typhoon Megi hits eastern China a...   \n",
       "16           flooding  Flooding nursery: xytlfvJ https://t.co/AgLxL3bXxj   \n",
       "17    suicide bombing  Isis says 50 killed in claimed suicide bombing...   \n",
       "18       suicide bomb  RT @cctvnews: #BREAKING 3 killed, 10 wounded a...   \n",
       "19   natural disaster  #Breaking: Yass Valley declared a natural disa...   \n",
       "20     suicide bomber    Roadside bomb, suicide bomber kill at 'Protest'   \n",
       "21       suicide bomb    Roadside bomb, suicide bomber kill at 'Protest'   \n",
       "22         evacuation  #Wildfire in Santa Cruz Mountains Forces Evacu...   \n",
       "23           arsonist  COPENHAGEN IN FLAMES: 200 cars set on fire as ...   \n",
       "24   natural disaster  RT @katie_b_burgess: #Breaking: Yass Valley de...   \n",
       "25   natural disaster  RT @katie_b_burgess: #Breaking: Yass Valley de...   \n",
       "26             floods  Severe weather warning issued for #Riverina as...   \n",
       "27          heat wave  California heat wave intensifies wildfire thre...   \n",
       "28       thunderstorm  Final:Severe Thunderstorm Warning issued Septe...   \n",
       "29          heat wave  NATION'S NEWS!: California heat wave intensifi...   \n",
       "..                ...                                                ...   \n",
       "70        forest fire             @ju_rue is hotter than a forest fire🔥   \n",
       "71          explosion  NewYorkCityFor.me Fire battalion chief dies in...   \n",
       "72  airplane accident  Bystander and Pilot Injured after Bizarre Airp...   \n",
       "73           flooding  Heavy rain, thunderstorms lead to flooding in ...   \n",
       "74               fire  Fire, Rescue and Safety Training from the prof...   \n",
       "75             rescue  Fire, Rescue and Safety Training from the prof...   \n",
       "76               hail                       昼飯なぅ https://t.co/PVtjMP1edz   \n",
       "77          explosion  https://t.co/WIVFrQAssO... https://t.co/tYvQoL...   \n",
       "78              arson                            https://t.co/qbsJhNLTzQ   \n",
       "79    bridge collapse                            https://t.co/pspjTaQmQ5   \n",
       "80             deaths                            https://t.co/w4LhqwreV2   \n",
       "81   natural disaster  https://t.co/AkvoINfDBv... https://t.co/f9VYvS...   \n",
       "82   natural disaster  https://t.co/OxxZ4q1TMl... https://t.co/tXWawl...   \n",
       "83   natural disaster  https://t.co/97wHnMnZ3b... https://t.co/gRHyJh...   \n",
       "84              arson    https://t.co/95F7A0vAEE https://t.co/82FGaqSpit   \n",
       "85         earthquake  https://t.co/WIVFrQAssO... https://t.co/tYvQoL...   \n",
       "86   natural disaster                            https://t.co/QvMelF1vaV   \n",
       "87   natural disaster                            https://t.co/s2zlfgdxxU   \n",
       "88             blight                        くらげ https://t.co/MhiBF6dXdT   \n",
       "89       obliteration  はるまげ堂 ショッピングカートをご利用くださいませ\\nhttps://t.co/jSNJoh...   \n",
       "90               sunk  やるのは紫でもいいのよ？ダブルスライドで苛ｍ…歓迎してあげるわhttps://t.co/5x...   \n",
       "91             bloody                            https://t.co/z8whpCNrhC   \n",
       "92             blight                   べろだしあざらし https://t.co/fWCqyZMzMA   \n",
       "93             blight                      とぶいるか https://t.co/wBGhUIY4zc   \n",
       "94          collision  ટ્રક ચાલકે બાઈકને ટક્કર મારતાં એક વ્યક્તિનું મ...   \n",
       "95              siren             Alessio Boschi https://t.co/OZBqz2o2O0   \n",
       "96            cyclone  山岡獲って広島対巨人で田口対山岡の投手戦観たいよね https://t.co/WxG749Wn2t   \n",
       "97            crashed  1 dies in small plane crash in Montgomery Co. ...   \n",
       "98       suicide bomb  عراق : خودکش بم حملوں میں 17 افراد ہلاک https:...   \n",
       "99      violent storm  RT @NWSMobile: 110 Years Ago-  The Sept 27 190...   \n",
       "\n",
       "    Certainty  \n",
       "0    0.996996  \n",
       "1    0.996996  \n",
       "2    0.989306  \n",
       "3    0.989306  \n",
       "4    0.985390  \n",
       "5    0.985390  \n",
       "6    0.985153  \n",
       "7    0.985153  \n",
       "8    0.982479  \n",
       "9    0.982219  \n",
       "10   0.982219  \n",
       "11   0.982219  \n",
       "12   0.982219  \n",
       "13   0.980516  \n",
       "14   0.980138  \n",
       "15   0.978339  \n",
       "16   0.976042  \n",
       "17   0.972376  \n",
       "18   0.971092  \n",
       "19   0.970679  \n",
       "20   0.970560  \n",
       "21   0.970560  \n",
       "22   0.970110  \n",
       "23   0.968366  \n",
       "24   0.966865  \n",
       "25   0.966865  \n",
       "26   0.966477  \n",
       "27   0.965814  \n",
       "28   0.964442  \n",
       "29   0.960432  \n",
       "..        ...  \n",
       "70   0.920456  \n",
       "71   0.920042  \n",
       "72   0.919724  \n",
       "73   0.919108  \n",
       "74   0.917752  \n",
       "75   0.917752  \n",
       "76   0.916467  \n",
       "77   0.916467  \n",
       "78   0.916467  \n",
       "79   0.916467  \n",
       "80   0.916467  \n",
       "81   0.916467  \n",
       "82   0.916467  \n",
       "83   0.916467  \n",
       "84   0.916467  \n",
       "85   0.916467  \n",
       "86   0.916467  \n",
       "87   0.916467  \n",
       "88   0.916467  \n",
       "89   0.916467  \n",
       "90   0.916467  \n",
       "91   0.916467  \n",
       "92   0.916467  \n",
       "93   0.916467  \n",
       "94   0.916467  \n",
       "95   0.916467  \n",
       "96   0.916467  \n",
       "97   0.916445  \n",
       "98   0.915604  \n",
       "99   0.915203  \n",
       "\n",
       "[100 rows x 3 columns]"
      ]
     },
     "execution_count": 19,
     "metadata": {},
     "output_type": "execute_result"
    }
   ],
   "source": [
    "pd.read_csv(data_truncated_address, index_col = 0)"
   ]
  },
  {
   "cell_type": "code",
   "execution_count": null,
   "metadata": {
    "collapsed": true
   },
   "outputs": [],
   "source": []
  }
 ],
 "metadata": {
  "anaconda-cloud": {},
  "kernelspec": {
   "display_name": "Python [Root]",
   "language": "python",
   "name": "Python [Root]"
  },
  "language_info": {
   "codemirror_mode": {
    "name": "ipython",
    "version": 2
   },
   "file_extension": ".py",
   "mimetype": "text/x-python",
   "name": "python",
   "nbconvert_exporter": "python",
   "pygments_lexer": "ipython2",
   "version": "2.7.12"
  }
 },
 "nbformat": 4,
 "nbformat_minor": 0
}
